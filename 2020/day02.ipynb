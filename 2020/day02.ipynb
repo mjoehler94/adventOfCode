{
 "cells": [
  {
   "cell_type": "code",
   "execution_count": 1,
   "metadata": {},
   "outputs": [
    {
     "name": "stdout",
     "output_type": "stream",
     "text": [
      "[['1-4', 'n:', 'nnnnn'], ['5-7', 'z:', 'qhcgzzz'], ['7-11', 'm:', 'mmmmmmsmmmmm'], ['5-8', 'd:', 'ldddtdgnzddddwl'], ['16-18', 'q:', 'qsqqqqqqqqqpqqqlqhq'], ['5-7', 's:', 'bwkbdlwns'], ['14-17', 'v:', 'vvvvvvvvvvvvvpvvxv'], ['4-5', 'v:', 'mvkvvn'], ['2-5', 'h:', 'lcwghhkpkxvzkvrmxrv'], ['2-9', 'm:', 'kmdvdlvxmhgsmlzp']]\n"
     ]
    }
   ],
   "source": [
    "# read in the puzzle input\n",
    "with open(\"data/input2.txt\") as f:\n",
    "    raw = [x.split() for x in f.readlines()]\n",
    "print(raw[:10])"
   ]
  },
  {
   "cell_type": "code",
   "execution_count": 2,
   "metadata": {},
   "outputs": [
    {
     "data": {
      "text/plain": [
       "456"
      ]
     },
     "execution_count": 2,
     "metadata": {},
     "output_type": "execute_result"
    }
   ],
   "source": [
    "# function to solve puzzle part 1\n",
    "def solve1(x):\n",
    "    valid_counter = 0\n",
    "    for items in x:\n",
    "        minmax = [int(val) for val in items[0].split('-')]\n",
    "        check_letter = items[1][0]\n",
    "        letter_counter = 0\n",
    "        for letter in items[2]:\n",
    "            if letter == check_letter:\n",
    "                letter_counter += 1\n",
    "        if minmax[0] <= letter_counter <= minmax[1]:\n",
    "            valid_counter += 1\n",
    "    return valid_counter\n",
    "solve1(raw)"
   ]
  },
  {
   "cell_type": "code",
   "execution_count": 3,
   "metadata": {},
   "outputs": [
    {
     "data": {
      "text/plain": [
       "308"
      ]
     },
     "execution_count": 3,
     "metadata": {},
     "output_type": "execute_result"
    }
   ],
   "source": [
    "# funciton to solve puzzle part 2\n",
    "def solve2(x):\n",
    "    valid_counter = 0\n",
    "    for items in x:\n",
    "        positions = [int(val) for val in items[0].split('-')]\n",
    "        check_letter = items[1][0]\n",
    "        position_matches = 0\n",
    "        for p in positions:\n",
    "            if items[2][p-1] == check_letter:\n",
    "                position_matches += 1\n",
    "        if position_matches == 1:\n",
    "            valid_counter += 1\n",
    "    return valid_counter\n",
    "solve2(raw)"
   ]
  }
 ],
 "metadata": {
  "kernelspec": {
   "display_name": "Python 3",
   "language": "python",
   "name": "python3"
  },
  "language_info": {
   "codemirror_mode": {
    "name": "ipython",
    "version": 3
   },
   "file_extension": ".py",
   "mimetype": "text/x-python",
   "name": "python",
   "nbconvert_exporter": "python",
   "pygments_lexer": "ipython3",
   "version": "3.7.7"
  }
 },
 "nbformat": 4,
 "nbformat_minor": 4
}
