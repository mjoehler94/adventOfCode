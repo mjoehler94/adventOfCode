{
 "cells": [
  {
   "cell_type": "code",
   "execution_count": 1,
   "metadata": {},
   "outputs": [
    {
     "name": "stdout",
     "output_type": "stream",
     "text": [
      "90\n"
     ]
    },
    {
     "data": {
      "text/plain": [
       "['LLLLLLLL..LLLLLLLLLLLLL.LLLLLLLLL.LLLLL.LLLLL.LLLLLL.LLLLL.LLLLLLLL.LLLLLL.LLLLLLLLLLLLLLLLLLLL',\n",
       " 'LLLLLLLLL.LLL.LLLLLLLLL.LLLLLLLLL.LLLLL..LLLL.LLLLLLLLLLLL.LLLLLLLL.LLLLLLLL.LLLLLLL.L.LLLLLLLL',\n",
       " 'LLLLLLLL.LLLLLLLLLLLLLL.LLLLLLLLL.LLLLL.LLLL..LLLLLL.LLLLL.LLLLLLLLLLLLLLLLL.LLLLLLL.LLLLLLLL.L',\n",
       " 'LLLLLLL.LLLL..LLL.LLLLLLLLLLLLLLLLLLLLL.LLLLL..LLLLL.LL.LL.LLLLLLLL.LLLLLLLLLLLLLLLL.LLLLLLLLLL',\n",
       " 'LLL.LLLL.LLLLLLLLLLLLLL.LLLLLLLLLLLLLLL.LLLLL.LLLLLLLLLLLLLLLLLLLLLL.LLLLLLL.LLLLLLLLLLLLLLLLLL',\n",
       " 'L.LL.LLL.LLLL.LLLLLLLLL.LLLLLLLLL.LLLLL.LLL.L.LLLLLLLLLLLLLLLLLLLLLLLLLLL.LL.LLLLLLL.LLLLLL.LLL',\n",
       " 'LLLLLLLLLL.LL.LLLLLLLLL.LLLLLLLLLLLLLLL.LLLLLLLLLLLLLLLLLLLLLLLLLLL.LLLLLLLLLLLLLLLL.LLLLLLL.LL',\n",
       " 'LLLLLLLL.LLLL.LLLLLLLLL.LLLLLLLLL.LLLLL.LLLLL.L.LLLL.LLLLL.LLLLLLLLLLLLLLLLL.LLL.LLLLLLLLLLLLLL',\n",
       " 'LLLLLLLL.LLLL.LLLLLLLLLLLLLL.LLLL.LLLLLLLLLLL.LLLLLLLLLLLL.LLLLLLLL.LLLLLLLL.LLLLLLL.L.LLLLL.LL',\n",
       " 'LLLLLLLL.LLLL.LLLLLLLLL.LLLLL.LLLLLLLLL.LLLLL.LLLLLLLLLLLL.LLLLLLLL.LLLLLLLLLLLLLLLL.LLLLLLLLLL']"
      ]
     },
     "execution_count": 1,
     "metadata": {},
     "output_type": "execute_result"
    }
   ],
   "source": [
    "# read in input text\n",
    "with open(\"data/input11.txt\") as f:\n",
    "    raw = [x.strip() for x in f.readlines()]\n",
    "    \n",
    "print(len(raw))\n",
    "raw[-10:]"
   ]
  },
  {
   "cell_type": "code",
   "execution_count": 2,
   "metadata": {},
   "outputs": [],
   "source": [
    "def update_seating(seats): \n",
    "    \n",
    "    max_width = len(seats[1])\n",
    "    max_height = len(seats)\n",
    "    new_arrangement = []\n",
    "    \n",
    "    # loop through input\n",
    "    for y in range(max_height):\n",
    "        temp_string = ''\n",
    "        for x in range(max_width):\n",
    "            if seats[y][x] == '.':\n",
    "                temp_string += '.'\n",
    "                continue\n",
    "            occ_count = 0\n",
    "            occ_count += x != 0 and seats[y][x-1] == '#'                # check left\n",
    "            occ_count += x != max_width - 1 and seats[y][x + 1] == '#' # check right\n",
    "            occ_count += y != 0  and seats[y - 1][x] == '#'             # check up\n",
    "            occ_count += y != max_height - 1 and seats[y+1][x] == '#'   # check down\n",
    "            \n",
    "            occ_count += x != 0 and y != 0 and seats[y - 1][x - 1] == '#'                  # check upper left\n",
    "            occ_count += x != max_width - 1 and y != 0 and seats[y - 1][x + 1] == '#'      # check upper right\n",
    "            occ_count += x != 0 and y != max_height - 1 and seats[y + 1][x - 1] == '#'     # check lower left\n",
    "            occ_count += x != max_width - 1 and y != max_height - 1 and seats[y + 1][x + 1] == '#' # check lower right\n",
    "\n",
    "            if seats[y][x] == 'L' and occ_count == 0:\n",
    "                temp_string += '#'\n",
    "            elif seats[y][x] == '#' and occ_count >= 4:\n",
    "                temp_string += 'L'\n",
    "            else:\n",
    "                temp_string += seats[y][x]\n",
    "        new_arrangement.append(temp_string)\n",
    "    return new_arrangement"
   ]
  },
  {
   "cell_type": "code",
   "execution_count": 3,
   "metadata": {},
   "outputs": [
    {
     "data": {
      "text/plain": [
       "['########..#############.#########.#####.#####.######.#####.########.######.####################',\n",
       " '#########.###.#########.#########.#####..####.############.########.########.#######.#.########',\n",
       " '########.##############.#########.#####.####..######.#####.#################.#######.########.#',\n",
       " '#######.####..###.#####################.#####..#####.##.##.########.################.##########',\n",
       " '###.####.##############.###############.#####.######################.#######.##################',\n",
       " '#.##.###.####.#########.#########.#####.###.#.###########################.##.#######.######.###',\n",
       " '##########.##.#########.###############.###########################.################.#######.##',\n",
       " '########.####.#########.#########.#####.#####.#.####.#####.#################.###.##############',\n",
       " '########.####.##############.####.###########.############.########.########.#######.#.#####.##',\n",
       " '########.####.#########.#####.#########.#####.############.########.################.##########']"
      ]
     },
     "execution_count": 3,
     "metadata": {},
     "output_type": "execute_result"
    }
   ],
   "source": [
    "new = update_seating(raw[-10:])\n",
    "new"
   ]
  },
  {
   "cell_type": "code",
   "execution_count": 4,
   "metadata": {},
   "outputs": [
    {
     "name": "stdout",
     "output_type": "stream",
     "text": [
      "Iterations until Equilibrium 134\n"
     ]
    },
    {
     "data": {
      "text/plain": [
       "2211"
      ]
     },
     "execution_count": 4,
     "metadata": {},
     "output_type": "execute_result"
    }
   ],
   "source": [
    "def solve1(seats):\n",
    "    curr_arrangemet = seats.copy()\n",
    "    counter = 0\n",
    "    while True:\n",
    "        counter += 1\n",
    "        new_arrangement = update_seating(curr_arrangemet)\n",
    "        if curr_arrangemet == new_arrangement:\n",
    "            break\n",
    "        curr_arrangemet = new_arrangement\n",
    "            \n",
    "    print(\"Iterations until Equilibrium\", counter)\n",
    "    \n",
    "    return \"\\n\".join(new_arrangement).count('#')\n",
    "\n",
    "solve1(raw)\n",
    "    "
   ]
  },
  {
   "cell_type": "code",
   "execution_count": null,
   "metadata": {},
   "outputs": [],
   "source": []
  },
  {
   "cell_type": "code",
   "execution_count": 5,
   "metadata": {},
   "outputs": [],
   "source": [
    "def update_seating2(seats):\n",
    "    max_width = len(seats[1])\n",
    "    max_height = len(seats)\n",
    "    new_arrangement = []\n",
    "    # loop through input\n",
    "    for y in range(max_height):\n",
    "        temp_string = ''\n",
    "        for x in range(max_width):\n",
    "            if seats[y][x] == '.':\n",
    "                temp_string += '.'\n",
    "                continue\n",
    "            occ_count = 0\n",
    "            \n",
    "            # check left\n",
    "            temp_x, temp_y = x, y\n",
    "            while temp_x  > 0:\n",
    "                if seats[temp_y][temp_x - 1] == '#':\n",
    "                    occ_count += 1\n",
    "                    break\n",
    "                elif seats[temp_y][temp_x - 1] == 'L':\n",
    "                    break\n",
    "                temp_x -= 1\n",
    "            # check right\n",
    "            temp_x, temp_y = x, y\n",
    "            while temp_x < max_width - 1:\n",
    "                if seats[temp_y][temp_x + 1] == '#':\n",
    "                    occ_count += 1\n",
    "                    break\n",
    "                elif seats[temp_y][temp_x + 1] == 'L':\n",
    "                    break\n",
    "                temp_x += 1\n",
    "            # check up\n",
    "            temp_x, temp_y = x, y\n",
    "            while temp_y > 0:\n",
    "                if seats[temp_y - 1][temp_x] == '#':\n",
    "                    occ_count += 1\n",
    "                    break\n",
    "                elif seats[temp_y - 1][temp_x] == 'L':\n",
    "                    break\n",
    "                temp_y -= 1\n",
    "            # check down\n",
    "            temp_x, temp_y = x, y\n",
    "            while temp_y < max_height - 1:\n",
    "                if seats[temp_y + 1][temp_x] == '#':\n",
    "                    occ_count += 1\n",
    "                    break\n",
    "                elif seats[temp_y + 1][temp_x] == 'L':\n",
    "                    break\n",
    "                temp_y += 1\n",
    "            # check upper left\n",
    "            temp_x, temp_y = x, y\n",
    "            while temp_x > 0 and temp_y > 0:\n",
    "                if seats[temp_y - 1][temp_x - 1] == '#':\n",
    "                    occ_count += 1\n",
    "                    break\n",
    "                elif seats[temp_y - 1][temp_x - 1] == 'L':\n",
    "                    break\n",
    "                temp_x -= 1\n",
    "                temp_y -= 1\n",
    "            # check upper right\n",
    "            temp_x, temp_y = x, y\n",
    "            while temp_x < max_width - 1 and temp_y > 0:\n",
    "                if seats[temp_y - 1][temp_x + 1] == '#':\n",
    "                    occ_count += 1\n",
    "                    break\n",
    "                elif seats[temp_y - 1][temp_x + 1] == 'L':\n",
    "                    break\n",
    "                temp_x += 1\n",
    "                temp_y -= 1\n",
    "            # check lower right\n",
    "            temp_x, temp_y = x, y\n",
    "            while temp_x < max_width - 1 and temp_y < max_height - 1:\n",
    "                if seats[temp_y + 1][temp_x + 1] == '#':\n",
    "                    occ_count += 1\n",
    "                    break\n",
    "                elif seats[temp_y + 1][temp_x + 1] == 'L':\n",
    "                    break\n",
    "                temp_x += 1\n",
    "                temp_y += 1\n",
    "            # check lower left\n",
    "            temp_x, temp_y = x, y\n",
    "            while temp_x > 0 and temp_y < max_height - 1:\n",
    "                if seats[temp_y + 1][temp_x - 1] == '#':\n",
    "                    occ_count += 1\n",
    "                    break\n",
    "                elif seats[temp_y + 1][temp_x - 1] == 'L':\n",
    "                    break\n",
    "                temp_x -= 1\n",
    "                temp_y += 1\n",
    "           \n",
    "            if seats[y][x] == 'L' and occ_count == 0:\n",
    "                temp_string += '#'\n",
    "            elif seats[y][x] == '#' and occ_count >= 5:\n",
    "                temp_string += 'L'\n",
    "            else:\n",
    "                temp_string += seats[y][x]\n",
    "        new_arrangement.append(temp_string)\n",
    "    return new_arrangement"
   ]
  },
  {
   "cell_type": "code",
   "execution_count": 6,
   "metadata": {},
   "outputs": [
    {
     "name": "stdout",
     "output_type": "stream",
     "text": [
      "Iterations until Equilibrium 85\n"
     ]
    },
    {
     "data": {
      "text/plain": [
       "1995"
      ]
     },
     "execution_count": 6,
     "metadata": {},
     "output_type": "execute_result"
    }
   ],
   "source": [
    "def solve2(seats):\n",
    "    curr_arrangemet = seats.copy()\n",
    "    counter = 0\n",
    "    while True:\n",
    "        counter += 1\n",
    "        new_arrangement = update_seating2(curr_arrangemet)\n",
    "        if curr_arrangemet == new_arrangement:\n",
    "            break\n",
    "        curr_arrangemet = new_arrangement\n",
    "            \n",
    "    print(\"Iterations until Equilibrium\", counter)\n",
    "    \n",
    "    return \"\\n\".join(new_arrangement).count('#')\n",
    "\n",
    "solve2(raw)\n",
    "    "
   ]
  },
  {
   "cell_type": "code",
   "execution_count": 7,
   "metadata": {},
   "outputs": [
    {
     "name": "stdout",
     "output_type": "stream",
     "text": [
      "Iterations until Equilibrium 7\n"
     ]
    },
    {
     "data": {
      "text/plain": [
       "26"
      ]
     },
     "execution_count": 7,
     "metadata": {},
     "output_type": "execute_result"
    }
   ],
   "source": [
    "test = [\n",
    "\"L.LL.LL.LL\",\n",
    "\"LLLLLLL.LL\",\n",
    "\"L.L.L..L..\",\n",
    "\"LLLL.LL.LL\",\n",
    "\"L.LL.LL.LL\",\n",
    "\"L.LLLLL.LL\",\n",
    "\"..L.L.....\",\n",
    "\"LLLLLLLLLL\",\n",
    "\"L.LLLLLL.L\",\n",
    "\"L.LLLLL.LL\",\n",
    "]\n",
    "# solution should be 26\n",
    "solve2(test)"
   ]
  }
 ],
 "metadata": {
  "kernelspec": {
   "display_name": "Python 3",
   "language": "python",
   "name": "python3"
  },
  "language_info": {
   "codemirror_mode": {
    "name": "ipython",
    "version": 3
   },
   "file_extension": ".py",
   "mimetype": "text/x-python",
   "name": "python",
   "nbconvert_exporter": "python",
   "pygments_lexer": "ipython3",
   "version": "3.7.4"
  }
 },
 "nbformat": 4,
 "nbformat_minor": 2
}
