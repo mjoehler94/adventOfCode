{
 "cells": [
  {
   "cell_type": "code",
   "execution_count": 1,
   "metadata": {},
   "outputs": [
    {
     "name": "stdout",
     "output_type": "stream",
     "text": [
      "hxcq\n",
      "xq\n",
      "\n",
      "iwokvx\n",
      "wtouv\n",
      "ikwvoc\n",
      "\n",
      "oedijfhxc\n",
      "divhjogecx\n"
     ]
    }
   ],
   "source": [
    "# read in input\n",
    "with open(\"data/input6.txt\") as f:\n",
    "    raw = f.read()\n",
    "print(raw[:50])"
   ]
  },
  {
   "cell_type": "code",
   "execution_count": 2,
   "metadata": {},
   "outputs": [
    {
     "data": {
      "text/plain": [
       "[['hxcq', 'xq'],\n",
       " ['iwokvx', 'wtouv', 'ikwvoc'],\n",
       " ['oedijfhxc', 'divhjogecxf', 'cidjoxfeh', 'odxeichfj'],\n",
       " ['cuwvptsqyknz', 'ahbtzvxjnsplye', 'spvxhyizmnrat'],\n",
       " ['jkxige', 'gikdqx', 'gkwxic', 'ixgk'],\n",
       " ['dubznrmlq', 'izrbqum', 'zrbuqms', 'vwperouzmbaqj'],\n",
       " ['uqejzgwflkorvixs', 'lwjuocfzpevsaqigkrxn'],\n",
       " ['g', 'w', 'y', 't', 'y'],\n",
       " ['bqtycaj', 'ktahyfc', 'ycftga', 'tacy'],\n",
       " ['gwms', 'mtgs', 'agsvm']]"
      ]
     },
     "execution_count": 2,
     "metadata": {},
     "output_type": "execute_result"
    }
   ],
   "source": [
    "clean = [x.replace('\\n', ' ').split(' ') for x in raw.split('\\n\\n')]\n",
    "clean[:10]"
   ]
  },
  {
   "cell_type": "code",
   "execution_count": 3,
   "metadata": {},
   "outputs": [
    {
     "data": {
      "text/plain": [
       "6911"
      ]
     },
     "execution_count": 3,
     "metadata": {},
     "output_type": "execute_result"
    }
   ],
   "source": [
    "from collections import Counter\n",
    "\n",
    "# sum the number of unique questions per group that were answered with 'yes' \n",
    "def solve1(clean):\n",
    "    count = 0\n",
    "    for l in clean:\n",
    "        count += len(Counter(''.join(l)))\n",
    "    return count\n",
    "\n",
    "solve1(clean)"
   ]
  },
  {
   "cell_type": "code",
   "execution_count": 4,
   "metadata": {},
   "outputs": [
    {
     "data": {
      "text/plain": [
       "3473"
      ]
     },
     "execution_count": 4,
     "metadata": {},
     "output_type": "execute_result"
    }
   ],
   "source": [
    "# only sum questions that everyone in the group answered 'yes' to\n",
    "def solve2(clean):\n",
    "    count = 0\n",
    "    for l in clean:\n",
    "        group_size = len(l) \n",
    "        question_counts = Counter(''.join(l))\n",
    "        count += len([x for x in question_counts if question_counts[x] == group_size])\n",
    "    return count\n",
    "\n",
    "solve2(clean)"
   ]
  }
 ],
 "metadata": {
  "kernelspec": {
   "display_name": "Python 3",
   "language": "python",
   "name": "python3"
  },
  "language_info": {
   "codemirror_mode": {
    "name": "ipython",
    "version": 3
   },
   "file_extension": ".py",
   "mimetype": "text/x-python",
   "name": "python",
   "nbconvert_exporter": "python",
   "pygments_lexer": "ipython3",
   "version": "3.7.4"
  }
 },
 "nbformat": 4,
 "nbformat_minor": 2
}
