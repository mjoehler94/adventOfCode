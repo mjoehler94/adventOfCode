{
 "cells": [
  {
   "cell_type": "code",
   "execution_count": 6,
   "metadata": {},
   "outputs": [
    {
     "data": {
      "text/plain": [
       "['R90', 'R180', 'S3', 'E2', 'F75', 'N5', 'R180', 'F8', 'S5', 'F64']"
      ]
     },
     "execution_count": 6,
     "metadata": {},
     "output_type": "execute_result"
    }
   ],
   "source": [
    "# read in input\n",
    "with open('data/input12.txt') as f:\n",
    "    raw = [x.strip() for x in f.readlines()]\n",
    "raw[-10:]"
   ]
  },
  {
   "cell_type": "code",
   "execution_count": 8,
   "metadata": {},
   "outputs": [
    {
     "data": {
      "text/plain": [
       "[('R', 90),\n",
       " ('R', 180),\n",
       " ('S', 3),\n",
       " ('E', 2),\n",
       " ('F', 75),\n",
       " ('N', 5),\n",
       " ('R', 180),\n",
       " ('F', 8),\n",
       " ('S', 5),\n",
       " ('F', 64)]"
      ]
     },
     "execution_count": 8,
     "metadata": {},
     "output_type": "execute_result"
    }
   ],
   "source": [
    "data = [(x[0], int(x[1:])) for x in raw]\n",
    "data[-10:]"
   ]
  },
  {
   "cell_type": "code",
   "execution_count": 50,
   "metadata": {},
   "outputs": [],
   "source": [
    "class Boat():\n",
    "    def __init__(self, x=0, y=0, face_direction='E'):\n",
    "        self.x = x\n",
    "        self.y = y\n",
    "        self.face_direction = face_direction\n",
    "        return\n",
    "    \n",
    "    def move(self, direction, distance):\n",
    "        if direction == 'F':\n",
    "            direction = self.face_direction\n",
    "        if direction == 'N':\n",
    "            self.y += distance\n",
    "        elif direction == 'E':\n",
    "            self.x += distance\n",
    "        elif direction == 'S':\n",
    "            self.y -= distance\n",
    "        elif direction == 'W':\n",
    "            self.x -= distance\n",
    "        return\n",
    "    \n",
    "    def turn(self, direction, degrees):\n",
    "        dirs = ['N', 'W', 'S', 'E'] if direction == 'L' else ['N', 'E', 'S', 'W']\n",
    "        self.face_direction = dirs[(dirs.index(self.face_direction) + (degrees // 90)) % len(dirs)]\n",
    "        return\n",
    "\n",
    "    \n",
    "    def navigate(self, instructions):\n",
    "        for i in instructions:\n",
    "            if i[0] in ['R','L']:\n",
    "                self.turn(direction = i[0], degrees=i[1])\n",
    "            else:\n",
    "                self.move(direction = i[0], distance=i[1])\n",
    "    \n",
    "    def __repr__(self):\n",
    "        return f\"x: {self.x}, y: {self.y}, face_direction: {self.face_direction}\"\n",
    "    "
   ]
  },
  {
   "cell_type": "code",
   "execution_count": 52,
   "metadata": {},
   "outputs": [
    {
     "name": "stdout",
     "output_type": "stream",
     "text": [
      "x: 658, y: -907, face_direction: N\n",
      "1565\n"
     ]
    }
   ],
   "source": [
    "# solve 1\n",
    "ship = Boat()\n",
    "ship.navigate(data)\n",
    "print(ship)\n",
    "print(abs(ship.x) + abs(ship.y))\n"
   ]
  },
  {
   "cell_type": "code",
   "execution_count": 49,
   "metadata": {},
   "outputs": [
    {
     "name": "stdout",
     "output_type": "stream",
     "text": [
      "2 5\n",
      "1 E\n"
     ]
    }
   ],
   "source": [
    "fd = 'S'\n",
    "d = 'R'\n",
    "dg = 270\n",
    "a = ['N', 'E', 'S', 'W']\n",
    "ind = a.index(fd) + (dg // 90)\n",
    "new_ind = ind % len(a)\n",
    "print(a.index(fd), ind)\n",
    "print(ind % len(a), a[new_ind])"
   ]
  },
  {
   "cell_type": "code",
   "execution_count": 23,
   "metadata": {},
   "outputs": [
    {
     "data": {
      "text/plain": [
       "4"
      ]
     },
     "execution_count": 23,
     "metadata": {},
     "output_type": "execute_result"
    }
   ],
   "source": [
    "4 % 5"
   ]
  },
  {
   "cell_type": "code",
   "execution_count": 24,
   "metadata": {},
   "outputs": [
    {
     "data": {
      "text/plain": [
       "1"
      ]
     },
     "execution_count": 24,
     "metadata": {},
     "output_type": "execute_result"
    }
   ],
   "source": [
    "5 % 4"
   ]
  }
 ],
 "metadata": {
  "kernelspec": {
   "display_name": "Python 3",
   "language": "python",
   "name": "python3"
  },
  "language_info": {
   "codemirror_mode": {
    "name": "ipython",
    "version": 3
   },
   "file_extension": ".py",
   "mimetype": "text/x-python",
   "name": "python",
   "nbconvert_exporter": "python",
   "pygments_lexer": "ipython3",
   "version": "3.7.4"
  }
 },
 "nbformat": 4,
 "nbformat_minor": 2
}
