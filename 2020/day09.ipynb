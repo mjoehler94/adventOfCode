{
 "cells": [
  {
   "cell_type": "code",
   "execution_count": 1,
   "metadata": {},
   "outputs": [
    {
     "name": "stdout",
     "output_type": "stream",
     "text": [
      "1000\n"
     ]
    },
    {
     "data": {
      "text/plain": [
       "[10,\n",
       " 21,\n",
       " 30,\n",
       " 41,\n",
       " 7,\n",
       " 31,\n",
       " 43,\n",
       " 13,\n",
       " 18,\n",
       " 16,\n",
       " 8,\n",
       " 27,\n",
       " 48,\n",
       " 49,\n",
       " 19,\n",
       " 46,\n",
       " 50,\n",
       " 37,\n",
       " 9,\n",
       " 26,\n",
       " 42,\n",
       " 15,\n",
       " 23,\n",
       " 47,\n",
       " 14]"
      ]
     },
     "execution_count": 1,
     "metadata": {},
     "output_type": "execute_result"
    }
   ],
   "source": [
    "# read input\n",
    "with open(\"data/input9.txt\") as f:\n",
    "    vals = [int(x) for x in f.readlines()]\n",
    "\n",
    "print(len(vals))\n",
    "vals[:25]"
   ]
  },
  {
   "cell_type": "code",
   "execution_count": 2,
   "metadata": {},
   "outputs": [],
   "source": [
    "test = [\n",
    "35,\n",
    "20,\n",
    "15,\n",
    "25,\n",
    "47,\n",
    "40,\n",
    "62,\n",
    "55,\n",
    "65,\n",
    "95,\n",
    "102,\n",
    "117,\n",
    "150,\n",
    "182,\n",
    "127,\n",
    "219,\n",
    "299,\n",
    "277,\n",
    "309,\n",
    "576\n",
    "]"
   ]
  },
  {
   "cell_type": "code",
   "execution_count": 3,
   "metadata": {},
   "outputs": [
    {
     "data": {
      "text/plain": [
       "31161678"
      ]
     },
     "execution_count": 3,
     "metadata": {},
     "output_type": "execute_result"
    }
   ],
   "source": [
    "# solve puzzle 1\n",
    "def solve1(x, preamble_length=25):\n",
    "    low_index = 0\n",
    "    high_index = preamble_length\n",
    "    for i in range(preamble_length, len(x)):\n",
    "        is_valid = False\n",
    "        for j in range(low_index, high_index):\n",
    "            for k in range(low_index, high_index):\n",
    "                if x[j] == x[k]:\n",
    "                    continue\n",
    "                if x[j] + x[k] == x[i]:\n",
    "                    is_valid = True\n",
    "        if not is_valid:\n",
    "            return x[i]\n",
    "        else:\n",
    "            low_index += 1\n",
    "            high_index += 1\n",
    "            \n",
    "# solve1(test, 5) \n",
    "solve1(vals, 25) "
   ]
  },
  {
   "cell_type": "code",
   "execution_count": 4,
   "metadata": {},
   "outputs": [
    {
     "data": {
      "text/plain": [
       "(1212280, 4241588, 5453868)"
      ]
     },
     "execution_count": 4,
     "metadata": {},
     "output_type": "execute_result"
    }
   ],
   "source": [
    "# solve puzzle 2\n",
    "def solve2(x, target):\n",
    "    start_index = 0\n",
    "    curr_index = 0\n",
    "    val_list = []\n",
    "    while True:\n",
    "        val_list.append(x[curr_index])\n",
    "        \n",
    "        if sum(val_list) == target:\n",
    "            # exit\n",
    "            return (min(val_list), max(val_list), min(val_list) + max(val_list))\n",
    "        elif sum(val_list) > target or curr_index == len(x):\n",
    "            # restart loop\n",
    "            val_list = []\n",
    "            start_index += 1\n",
    "            curr_index = start_index\n",
    "        if start_index == len(x):\n",
    "            # something is broken if we get here\n",
    "            return \"Could not find Weakness\"\n",
    "        \n",
    "        curr_index += 1\n",
    "        \n",
    "    \n",
    "solve2(vals, 31161678)"
   ]
  }
 ],
 "metadata": {
  "kernelspec": {
   "display_name": "Python 3",
   "language": "python",
   "name": "python3"
  },
  "language_info": {
   "codemirror_mode": {
    "name": "ipython",
    "version": 3
   },
   "file_extension": ".py",
   "mimetype": "text/x-python",
   "name": "python",
   "nbconvert_exporter": "python",
   "pygments_lexer": "ipython3",
   "version": "3.7.4"
  }
 },
 "nbformat": 4,
 "nbformat_minor": 2
}
