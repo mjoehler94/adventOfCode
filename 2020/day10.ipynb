{
 "cells": [
  {
   "cell_type": "code",
   "execution_count": 1,
   "metadata": {},
   "outputs": [
    {
     "name": "stdout",
     "output_type": "stream",
     "text": [
      "107\n"
     ]
    },
    {
     "data": {
      "text/plain": [
       "[59, 134, 159, 125, 95, 92, 169, 43, 154, 46]"
      ]
     },
     "execution_count": 1,
     "metadata": {},
     "output_type": "execute_result"
    }
   ],
   "source": [
    "# read input\n",
    "with open(\"data/input10.txt\") as f:\n",
    "    vals = [int(x) for x in f.readlines()]\n",
    "\n",
    "print(len(vals))\n",
    "vals[:10]"
   ]
  },
  {
   "cell_type": "code",
   "execution_count": 2,
   "metadata": {},
   "outputs": [
    {
     "data": {
      "text/plain": [
       "(2516, Counter({1: 74, 3: 34}))"
      ]
     },
     "execution_count": 2,
     "metadata": {},
     "output_type": "execute_result"
    }
   ],
   "source": [
    "from collections import Counter\n",
    "\n",
    "def solve1(x):\n",
    "    chain = [0] + x + [max(x) + 3]\n",
    "    chain.sort()\n",
    "    diff_list = []\n",
    "    for i in range(1, len(chain)):\n",
    "        diff_list.append(chain[i] - chain[i-1])\n",
    "    diff_counter = Counter(diff_list)\n",
    "    return (diff_counter[1] * diff_counter[3], diff_counter)\n",
    "solve1(vals)"
   ]
  },
  {
   "cell_type": "code",
   "execution_count": 3,
   "metadata": {},
   "outputs": [
    {
     "name": "stdout",
     "output_type": "stream",
     "text": [
      "11\n"
     ]
    },
    {
     "data": {
      "text/plain": [
       "(35, Counter({1: 7, 3: 5}))"
      ]
     },
     "execution_count": 3,
     "metadata": {},
     "output_type": "execute_result"
    }
   ],
   "source": [
    "# solution for part 2 of test is 8\n",
    "test = [16,10,15,5,1,11,7,19,6,12,4]\n",
    "print(len(test))\n",
    "solve1(test)"
   ]
  },
  {
   "cell_type": "code",
   "execution_count": 4,
   "metadata": {},
   "outputs": [
    {
     "name": "stdout",
     "output_type": "stream",
     "text": [
      "13\n",
      "[1, 3, 1, 1, 1, 3, 1, 1, 3, 1, 3, 3]\n",
      "[0, 1, 4, 5, 6, 7, 10, 11, 12, 15, 16, 19, 22]\n"
     ]
    }
   ],
   "source": [
    "clean_test = sorted([0] + test + [max(test) + 3])\n",
    "print(len(clean_test))\n",
    "print([x - clean_test[i - 1] for i, x in enumerate(clean_test)][1:])\n",
    "print(clean_test)"
   ]
  },
  {
   "cell_type": "code",
   "execution_count": 5,
   "metadata": {},
   "outputs": [
    {
     "name": "stdout",
     "output_type": "stream",
     "text": [
      "31\n"
     ]
    },
    {
     "data": {
      "text/plain": [
       "(220, Counter({1: 22, 3: 10}))"
      ]
     },
     "execution_count": 5,
     "metadata": {},
     "output_type": "execute_result"
    }
   ],
   "source": [
    "# result of part 2 for test 2 is 19208\n",
    "test2 = [28,33,18,42,31,14,46,20,48,47,24,23,49,45,19,38,39,11,1,32,25,35,8,17,7,9,4,2,34,10,3]\n",
    "print(len(test2))\n",
    "solve1(test2)"
   ]
  },
  {
   "cell_type": "markdown",
   "metadata": {},
   "source": [
    "### Seems like it's going to be the product of differences of the result from part 1 or something like that\n",
    "\n",
    "Recursion could work, but isn't computationally efficient"
   ]
  },
  {
   "cell_type": "code",
   "execution_count": 39,
   "metadata": {},
   "outputs": [],
   "source": [
    "test = [16,10,15,5,1,11,7,19,6,12,4]\n",
    "\n",
    "def recursive2(x):\n",
    "    pass\n",
    "    \n",
    "\n",
    "def solve2(x):\n",
    "    chain = [0] + x + [max(x) + 3]\n",
    "    chain.sort()\n",
    "    diff_list = []\n",
    "    for i in range(1, len(chain)):\n",
    "        diff_list.append(chain[i] - chain[i-1])\n",
    "    return diff_list"
   ]
  }
 ],
 "metadata": {
  "kernelspec": {
   "display_name": "Python 3",
   "language": "python",
   "name": "python3"
  },
  "language_info": {
   "codemirror_mode": {
    "name": "ipython",
    "version": 3
   },
   "file_extension": ".py",
   "mimetype": "text/x-python",
   "name": "python",
   "nbconvert_exporter": "python",
   "pygments_lexer": "ipython3",
   "version": "3.7.4"
  }
 },
 "nbformat": 4,
 "nbformat_minor": 2
}
