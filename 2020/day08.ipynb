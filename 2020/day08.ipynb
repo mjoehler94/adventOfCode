{
 "cells": [
  {
   "cell_type": "code",
   "execution_count": 1,
   "metadata": {},
   "outputs": [
    {
     "data": {
      "text/plain": [
       "['jmp -593',\n",
       " 'acc +15',\n",
       " 'acc +50',\n",
       " 'acc -3',\n",
       " 'jmp -50',\n",
       " 'acc -13',\n",
       " 'acc +14',\n",
       " 'acc +34',\n",
       " 'acc -16',\n",
       " 'jmp +1']"
      ]
     },
     "execution_count": 1,
     "metadata": {},
     "output_type": "execute_result"
    }
   ],
   "source": [
    "# read in input\n",
    "with open(\"data/input8.txt\") as f:\n",
    "    raw = [x.strip() for x in f.readlines()]\n",
    "raw[-10:]"
   ]
  },
  {
   "cell_type": "code",
   "execution_count": 2,
   "metadata": {},
   "outputs": [],
   "source": [
    "class Console():\n",
    "    def __init__(self,bootcode):\n",
    "        self.bootcode = bootcode\n",
    "        self.acc = 0\n",
    "        self.current_index = 0\n",
    "        self.history = []\n",
    "        self.status = 'default'\n",
    "        return\n",
    "\n",
    "    def run_code(self):\n",
    "        while self.current_index not in self.history:\n",
    "            self.history.append(self.current_index)\n",
    "            operation, count = self.bootcode[self.current_index].split()\n",
    "            if operation == 'acc':\n",
    "                self.acc += int(count)\n",
    "                self.current_index += 1\n",
    "            elif operation == \"jmp\":\n",
    "                self.current_index += int(count)\n",
    "            elif operation == \"nop\":\n",
    "                self.current_index += 1\n",
    "            if self.current_index == len(self.bootcode):\n",
    "                self.status = 'terminated'\n",
    "                break\n",
    "        return\n",
    "    \n",
    "    def __repr__(self):\n",
    "        return f\"Acc: {self.acc}, Current_Index: {self.current_index}, Status: {self.status}, Code_Length: {len(self.bootcode)}, History_Lenght: {len(self.history)}\"\n"
   ]
  },
  {
   "cell_type": "code",
   "execution_count": 3,
   "metadata": {},
   "outputs": [
    {
     "name": "stdout",
     "output_type": "stream",
     "text": [
      "Acc: 1475, Current_Index: 350, Status: default, Code_Length: 635, History_Lenght: 187\n"
     ]
    }
   ],
   "source": [
    "# solve puzzle 1\n",
    "handheld = Console(raw)\n",
    "handheld.run_code()\n",
    "print(handheld)"
   ]
  },
  {
   "cell_type": "code",
   "execution_count": 4,
   "metadata": {},
   "outputs": [
    {
     "name": "stdout",
     "output_type": "stream",
     "text": [
      "Acc: 1270, Current_Index: 635, Status: terminated, Code_Length: 635, History_Lenght: 148\n"
     ]
    }
   ],
   "source": [
    "# solve puzzle 2\n",
    "def solve2(code):\n",
    "    for i, instruction in enumerate(code):\n",
    "        temp = code.copy()\n",
    "        operation, count = instruction.split()\n",
    "        if operation == 'nop':\n",
    "            temp[i] = \" \".join(['jmp', count])\n",
    "        elif operation == 'jmp':\n",
    "            temp[i] = \" \".join(['nop', count])\n",
    "        else: \n",
    "            continue\n",
    "        handheld = Console(temp)\n",
    "        handheld.run_code()\n",
    "        if handheld.status == 'terminated':\n",
    "            print(handheld)\n",
    "            return\n",
    "    return \"Something is wrong :(\"\n",
    "\n",
    "solve2(raw)"
   ]
  },
  {
   "cell_type": "code",
   "execution_count": null,
   "metadata": {},
   "outputs": [],
   "source": []
  }
 ],
 "metadata": {
  "kernelspec": {
   "display_name": "Python 3",
   "language": "python",
   "name": "python3"
  },
  "language_info": {
   "codemirror_mode": {
    "name": "ipython",
    "version": 3
   },
   "file_extension": ".py",
   "mimetype": "text/x-python",
   "name": "python",
   "nbconvert_exporter": "python",
   "pygments_lexer": "ipython3",
   "version": "3.7.4"
  }
 },
 "nbformat": 4,
 "nbformat_minor": 2
}
