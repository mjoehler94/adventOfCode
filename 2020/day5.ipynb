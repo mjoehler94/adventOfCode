{
 "cells": [
  {
   "cell_type": "code",
   "execution_count": 1,
   "metadata": {},
   "outputs": [
    {
     "data": {
      "text/plain": [
       "['FBFBFBBLRL',\n",
       " 'FFFFBBFRRR',\n",
       " 'FFFBFBBLLL',\n",
       " 'BFFBFFFLRL',\n",
       " 'BFBFBBFLRR',\n",
       " 'BBFFFBFRLR',\n",
       " 'BFBFBFFLRR',\n",
       " 'FFFBFFBLRR',\n",
       " 'BBFBBFBRRR',\n",
       " 'FBBFBBFLRL']"
      ]
     },
     "execution_count": 1,
     "metadata": {},
     "output_type": "execute_result"
    }
   ],
   "source": [
    "# read in input\n",
    "with open(\"data/input5.txt\") as f:\n",
    "    raw = [x.strip() for x in f.readlines()]\n",
    "raw[-10:]"
   ]
  },
  {
   "cell_type": "code",
   "execution_count": 2,
   "metadata": {},
   "outputs": [
    {
     "name": "stdout",
     "output_type": "stream",
     "text": [
      "10\n"
     ]
    }
   ],
   "source": [
    "# test info: BFFFBBFRRR: row 70, column 7, seat ID 567\n",
    "test = 'BFFFBBFRRR'\n",
    "print(len(test))"
   ]
  },
  {
   "cell_type": "code",
   "execution_count": 3,
   "metadata": {},
   "outputs": [
    {
     "name": "stdout",
     "output_type": "stream",
     "text": [
      "70\n",
      "7\n"
     ]
    }
   ],
   "source": [
    "def find_location(seat_code, min_val, max_val):\n",
    "    if min_val == max_val:\n",
    "        return min_val\n",
    "    if seat_code[0] in \"FL\":\n",
    "        max_val -= ((max_val - min_val) // 2) + 1\n",
    "    elif seat_code[0] in \"BR\":\n",
    "        min_val += ((max_val - min_val) // 2) + 1\n",
    "#     print(seat_code[0],min_val, max_val, seat_code)\n",
    "    return find_location(seat_code[1:], min_val, max_val)\n",
    "\n",
    "print(find_location(test[:7], min_val=0, max_val=127))\n",
    "print(find_location(test[7:], min_val=0, max_val=7))\n"
   ]
  },
  {
   "cell_type": "code",
   "execution_count": 4,
   "metadata": {},
   "outputs": [
    {
     "data": {
      "text/plain": [
       "991"
      ]
     },
     "execution_count": 4,
     "metadata": {},
     "output_type": "execute_result"
    }
   ],
   "source": [
    "def solve1(tickets):\n",
    "    return max([8 * find_location(x[:7], 0, 127) + find_location(x[7:],0,7) for x in tickets])\n",
    "solve1(raw)"
   ]
  },
  {
   "cell_type": "code",
   "execution_count": 5,
   "metadata": {},
   "outputs": [
    {
     "name": "stdout",
     "output_type": "stream",
     "text": [
      "533 535\n"
     ]
    }
   ],
   "source": [
    "def solve2(tickets):\n",
    "    seat_ids = [8 * find_location(x[:7], 0, 127) + find_location(x[7:],0,7) for x in tickets]\n",
    "    seat_ids.sort()\n",
    "    \n",
    "    for i in range(1,len(seat_ids)):\n",
    "        if i == 0: \n",
    "            continue\n",
    "        if seat_ids[i] - seat_ids[i - 1] == 2:\n",
    "            print(seat_ids[i-1], seat_ids[i])\n",
    "    \n",
    "    return \n",
    "\n",
    "solve2(raw)\n",
    "    "
   ]
  }
 ],
 "metadata": {
  "kernelspec": {
   "display_name": "Python 3",
   "language": "python",
   "name": "python3"
  },
  "language_info": {
   "codemirror_mode": {
    "name": "ipython",
    "version": 3
   },
   "file_extension": ".py",
   "mimetype": "text/x-python",
   "name": "python",
   "nbconvert_exporter": "python",
   "pygments_lexer": "ipython3",
   "version": "3.7.4"
  }
 },
 "nbformat": 4,
 "nbformat_minor": 2
}
