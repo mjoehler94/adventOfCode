{
 "cells": [
  {
   "cell_type": "code",
   "execution_count": 1,
   "metadata": {},
   "outputs": [
    {
     "data": {
      "text/plain": [
       "['..#.#...#.#.#.##.....###.#....#',\n",
       " '...........##.#...#.#..........',\n",
       " '....#.....#..#.............#...',\n",
       " '.#....###..##...#...##...#.#..#',\n",
       " '#.......#.........#..#.......#.']"
      ]
     },
     "execution_count": 1,
     "metadata": {},
     "output_type": "execute_result"
    }
   ],
   "source": [
    "# read in puzzle input\n",
    "with open(\"data/input3.txt\") as f:\n",
    "    hill = [x.strip('\\n') for x in f.readlines()]\n",
    "hill[:5]"
   ]
  },
  {
   "cell_type": "code",
   "execution_count": 2,
   "metadata": {},
   "outputs": [
    {
     "name": "stdout",
     "output_type": "stream",
     "text": [
      "31\n",
      "323\n"
     ]
    }
   ],
   "source": [
    "print(len(hill[0]))\n",
    "print(len(hill))"
   ]
  },
  {
   "cell_type": "code",
   "execution_count": 3,
   "metadata": {},
   "outputs": [
    {
     "name": "stdout",
     "output_type": "stream",
     "text": [
      "11\n",
      "11\n"
     ]
    }
   ],
   "source": [
    "test_hill = [\n",
    "\"..##.......\",\n",
    "\"#...#...#..\",\n",
    "\".#....#..#.\",\n",
    "\"..#.#...#.#\",\n",
    "\".#...##..#.\",\n",
    "\"..#.##.....\",\n",
    "\".#.#.#....#\",\n",
    "\".#........#\",\n",
    "\"#.##...#...\",\n",
    "\"#...##....#\",\n",
    "\".#..#...#.#\"\n",
    "]\n",
    "print(len(test_hill[0]))\n",
    "print(len(test_hill))"
   ]
  },
  {
   "cell_type": "code",
   "execution_count": 4,
   "metadata": {
    "scrolled": false
   },
   "outputs": [
    {
     "data": {
      "text/plain": [
       "178"
      ]
     },
     "execution_count": 4,
     "metadata": {},
     "output_type": "execute_result"
    }
   ],
   "source": [
    "# solve puzzle 1\n",
    "def descend_hill(hill, slope=(1,3), start=(0,0)):\n",
    "    position = [x for x in start]\n",
    "    tree_counter = 0\n",
    "    hill_width = len(hill[0])\n",
    "    for i in range(start[0],len(hill), slope[0]):\n",
    "        if hill[position[0]][position[1]] == \"#\":\n",
    "            tree_counter += 1\n",
    "        position[0] = (position[0] + slope[0])\n",
    "        position[1] = (position[1] + slope[1]) % hill_width\n",
    "    \n",
    "    return tree_counter\n",
    "\n",
    "descend_hill(hill)"
   ]
  },
  {
   "cell_type": "markdown",
   "metadata": {},
   "source": [
    "For puzzle two, find the tree hits for these slopes and take the product of them\n",
    "- Right 1, down 1.\n",
    "- Right 3, down 1. (This is the slope you already checked.)\n",
    "- Right 5, down 1.\n",
    "- Right 7, down 1.\n",
    "- Right 1, down 2."
   ]
  },
  {
   "cell_type": "code",
   "execution_count": 5,
   "metadata": {},
   "outputs": [
    {
     "name": "stdout",
     "output_type": "stream",
     "text": [
      "[78, 178, 75, 86, 39]\n"
     ]
    },
    {
     "data": {
      "text/plain": [
       "3492520200"
      ]
     },
     "execution_count": 5,
     "metadata": {},
     "output_type": "execute_result"
    }
   ],
   "source": [
    "from functools import reduce\n",
    "slopes = [\n",
    "    (1,1),\n",
    "    (1,3),\n",
    "    (1,5),\n",
    "    (1,7),\n",
    "    (2,1)\n",
    "]\n",
    "tree_hits = [descend_hill(hill, slope=x) for x in slopes]\n",
    "print(tree_hits)\n",
    "reduce(lambda x, y: x * y, tree_hits)"
   ]
  }
 ],
 "metadata": {
  "kernelspec": {
   "display_name": "Python 3",
   "language": "python",
   "name": "python3"
  },
  "language_info": {
   "codemirror_mode": {
    "name": "ipython",
    "version": 3
   },
   "file_extension": ".py",
   "mimetype": "text/x-python",
   "name": "python",
   "nbconvert_exporter": "python",
   "pygments_lexer": "ipython3",
   "version": "3.7.4"
  }
 },
 "nbformat": 4,
 "nbformat_minor": 2
}
