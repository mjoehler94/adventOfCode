{
 "cells": [
  {
   "cell_type": "markdown",
   "metadata": {},
   "source": [
    "- light red bags contain 1 bright white bag, 2 muted yellow bags.\n",
    "- dark orange bags contain 3 bright white bags, 4 muted yellow bags.\n",
    "- bright white bags contain 1 shiny gold bag.\n",
    "- muted yellow bags contain 2 shiny gold bags, 9 faded blue bags.\n",
    "- shiny gold bags contain 1 dark olive bag, 2 vibrant plum bags.\n",
    "- dark olive bags contain 3 faded blue bags, 4 dotted black bags.\n",
    "- vibrant plum bags contain 5 faded blue bags, 6 dotted black bags.\n",
    "- faded blue bags contain no other bags.\n",
    "- dotted black bags contain no other bags."
   ]
  },
  {
   "cell_type": "code",
   "execution_count": 1,
   "metadata": {},
   "outputs": [],
   "source": [
    "# libraries\n",
    "import re"
   ]
  },
  {
   "cell_type": "code",
   "execution_count": 2,
   "metadata": {},
   "outputs": [
    {
     "name": "stdout",
     "output_type": "stream",
     "text": [
      "594\n"
     ]
    },
    {
     "data": {
      "text/plain": [
       "['vibrant olive bags contain 2 drab purple bags.',\n",
       " 'shiny yellow bags contain 2 faded lavender bags, 4 shiny cyan bags.',\n",
       " 'posh lime bags contain 3 light plum bags, 4 clear magenta bags.',\n",
       " 'dotted aqua bags contain 3 dim lime bags, 2 light green bags.',\n",
       " 'dim yellow bags contain 4 bright brown bags, 4 wavy coral bags.',\n",
       " 'shiny blue bags contain 4 dotted yellow bags, 1 dim crimson bag, 1 clear black bag.',\n",
       " 'wavy maroon bags contain 4 vibrant aqua bags, 4 striped bronze bags, 3 dotted silver bags.',\n",
       " 'drab coral bags contain 1 wavy teal bag, 3 plaid orange bags, 2 posh orange bags, 1 mirrored olive bag.',\n",
       " 'bright teal bags contain 2 pale magenta bags.',\n",
       " 'bright purple bags contain 4 shiny chartreuse bags, 5 plaid lime bags, 2 dim magenta bags.']"
      ]
     },
     "execution_count": 2,
     "metadata": {},
     "output_type": "execute_result"
    }
   ],
   "source": [
    "# read in input\n",
    "with open(\"data/input7.txt\") as f:\n",
    "    rules = [x.strip() for x in f.readlines()]\n",
    "print(len(rules))\n",
    "rules[-10:]"
   ]
  },
  {
   "cell_type": "code",
   "execution_count": 3,
   "metadata": {},
   "outputs": [],
   "source": [
    "class Bag():\n",
    "    def __init__(self, bag_description):\n",
    "        description_items = bag_description.split(\" contain \")\n",
    "        self.color = description_items[0][:-5]\n",
    "        self.child_bags = {}\n",
    "        if description_items[1][:2] != 'no':\n",
    "            # make dictionary of child bag color and quantity\n",
    "            for child in description_items[1].split(\", \"):\n",
    "                child_info = child.split()\n",
    "                self.child_bags[\" \".join(child_info[1:3])] = int(child_info[0])\n",
    "        return\n",
    "    \n",
    "    def get_color(self):\n",
    "        return self.color\n",
    "    \n",
    "    def get_child_bags(self):\n",
    "        return self.child_bags\n",
    "    \n",
    "    def __repr__(self):\n",
    "        return self.color + \": \" + str([x for x in self.child_bags.items()])\n",
    "    \n",
    "    "
   ]
  },
  {
   "cell_type": "code",
   "execution_count": 4,
   "metadata": {},
   "outputs": [
    {
     "name": "stdout",
     "output_type": "stream",
     "text": [
      "594 594 594\n"
     ]
    }
   ],
   "source": [
    "# make list of all bags as classes\n",
    "bags = [Bag(bag_description=x)for x in rules]\n",
    "bag_dict = {x.color : x for x in bags}\n",
    "print(len(rules), len(bags), len(bag_dict))"
   ]
  },
  {
   "cell_type": "code",
   "execution_count": 5,
   "metadata": {},
   "outputs": [
    {
     "data": {
      "text/plain": [
       "155"
      ]
     },
     "execution_count": 5,
     "metadata": {},
     "output_type": "execute_result"
    }
   ],
   "source": [
    "def can_contain_child(bag_color, target_color, bag_dict):\n",
    "    if len(bag_dict[bag_color].get_child_bags()) == 0:\n",
    "        return False\n",
    "    if target_color in bag_dict[bag_color].get_child_bags():\n",
    "        return True\n",
    "    is_contained = any(\n",
    "        can_contain_child(\n",
    "            child_color,\n",
    "            target_color,\n",
    "            bag_dict) for child_color in bag_dict[bag_color].get_child_bags()\n",
    "    )\n",
    "    return is_contained\n",
    "\n",
    "\n",
    "def solve1(bag_dict, target_color='shiny gold', ):\n",
    "    # get all possible outerbags for the bag of a given color\n",
    "    return sum([can_contain_child(bag_color, target_color, bag_dict) for bag_color in bag_dict])\n",
    "\n",
    "solve1(bag_dict)"
   ]
  },
  {
   "cell_type": "code",
   "execution_count": 6,
   "metadata": {},
   "outputs": [],
   "source": [
    "def is_inside(bag_color, bag_dict, current_count):\n",
    "    if len(bag_dict[bag_color].get_child_bags()) == 0:\n",
    "        return current_count\n",
    "    num_children = sum()\n",
    "    \n",
    "\n",
    "def solve2():\n",
    "    # How many individual bags are required inside your single shiny gold bag?\n",
    "    pass\n",
    "    "
   ]
  },
  {
   "cell_type": "markdown",
   "metadata": {},
   "source": [
    "#### Scratch Code"
   ]
  },
  {
   "cell_type": "code",
   "execution_count": 7,
   "metadata": {},
   "outputs": [],
   "source": [
    "# print(bags[0])\n",
    "# can_contain_child('muted coral', 'shiny gold', bag_dict=bag_dict)"
   ]
  },
  {
   "cell_type": "code",
   "execution_count": 8,
   "metadata": {},
   "outputs": [],
   "source": [
    "# a = {1,2,3,4}\n",
    "# a.add(5)\n",
    "# a.add(2)\n",
    "# a"
   ]
  },
  {
   "cell_type": "code",
   "execution_count": 9,
   "metadata": {},
   "outputs": [],
   "source": [
    "# a = test.split(\" contain \")[1]\n",
    "# print(a)\n",
    "\n",
    "# for bag in a.split(\", \"):\n",
    "#     print(\"bag:\", bag)\n",
    "#     bs = bag.strip().split()\n",
    "#     print(\" \".join(bs[1:3]), int(bs[0]))\n",
    "    \n",
    "\n",
    "\n",
    "# test = rules[35]\n",
    "# print(test)\n",
    "# test.split(\" contain \")[1].split(\", \")\n",
    "\n",
    "# a = Bag(rules[0])\n",
    "# print(a)"
   ]
  },
  {
   "cell_type": "code",
   "execution_count": 10,
   "metadata": {},
   "outputs": [],
   "source": [
    "# sum([True, False, True, True])"
   ]
  }
 ],
 "metadata": {
  "kernelspec": {
   "display_name": "Python 3",
   "language": "python",
   "name": "python3"
  },
  "language_info": {
   "codemirror_mode": {
    "name": "ipython",
    "version": 3
   },
   "file_extension": ".py",
   "mimetype": "text/x-python",
   "name": "python",
   "nbconvert_exporter": "python",
   "pygments_lexer": "ipython3",
   "version": "3.7.4"
  }
 },
 "nbformat": 4,
 "nbformat_minor": 2
}
