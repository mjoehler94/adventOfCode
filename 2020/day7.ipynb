{
 "cells": [
  {
   "cell_type": "code",
   "execution_count": 1,
   "metadata": {},
   "outputs": [],
   "source": [
    "# libraries\n",
    "import re"
   ]
  },
  {
   "cell_type": "code",
   "execution_count": 2,
   "metadata": {},
   "outputs": [
    {
     "name": "stdout",
     "output_type": "stream",
     "text": [
      "594\n"
     ]
    },
    {
     "data": {
      "text/plain": [
       "['vibrant olive bags contain 2 drab purple bags.',\n",
       " 'shiny yellow bags contain 2 faded lavender bags, 4 shiny cyan bags.',\n",
       " 'posh lime bags contain 3 light plum bags, 4 clear magenta bags.',\n",
       " 'dotted aqua bags contain 3 dim lime bags, 2 light green bags.',\n",
       " 'dim yellow bags contain 4 bright brown bags, 4 wavy coral bags.',\n",
       " 'shiny blue bags contain 4 dotted yellow bags, 1 dim crimson bag, 1 clear black bag.',\n",
       " 'wavy maroon bags contain 4 vibrant aqua bags, 4 striped bronze bags, 3 dotted silver bags.',\n",
       " 'drab coral bags contain 1 wavy teal bag, 3 plaid orange bags, 2 posh orange bags, 1 mirrored olive bag.',\n",
       " 'bright teal bags contain 2 pale magenta bags.',\n",
       " 'bright purple bags contain 4 shiny chartreuse bags, 5 plaid lime bags, 2 dim magenta bags.']"
      ]
     },
     "execution_count": 2,
     "metadata": {},
     "output_type": "execute_result"
    }
   ],
   "source": [
    "# read in input\n",
    "with open(\"data/input7.txt\") as f:\n",
    "    rules = [x.strip() for x in f.readlines()]\n",
    "print(len(rules))\n",
    "rules[-10:]"
   ]
  },
  {
   "cell_type": "code",
   "execution_count": 3,
   "metadata": {},
   "outputs": [],
   "source": [
    "class Bag():\n",
    "    def __init__(self, bag_description):\n",
    "        description_items = bag_description.split(\" contain \")\n",
    "        self.color = description_items[0][:-5]\n",
    "        self.child_bags = {}\n",
    "        if description_items[1][:2] != 'no':\n",
    "            # make dictionary of child bag color and quantity\n",
    "            for child in description_items[1].split(\", \"):\n",
    "                child_info = child.split()\n",
    "                self.child_bags[\" \".join(child_info[1:3])] = int(child_info[0])\n",
    "        return\n",
    "    \n",
    "    def get_color(self):\n",
    "        return self.color\n",
    "    \n",
    "    def get_child_bags(self):\n",
    "        return self.child_bags\n",
    "    \n",
    "    def __repr__(self):\n",
    "        return self.color + \": \" + str([x for x in self.child_bags.items()])"
   ]
  },
  {
   "cell_type": "code",
   "execution_count": 4,
   "metadata": {},
   "outputs": [],
   "source": [
    "# make list of all bags as classes\n",
    "bags = [Bag(bag_description=x)for x in rules]\n",
    "bag_dict = {x.color : x for x in bags}\n",
    "# print(len(rules), len(bags), len(bag_dict))"
   ]
  },
  {
   "cell_type": "code",
   "execution_count": 5,
   "metadata": {},
   "outputs": [
    {
     "data": {
      "text/plain": [
       "155"
      ]
     },
     "execution_count": 5,
     "metadata": {},
     "output_type": "execute_result"
    }
   ],
   "source": [
    "def can_contain_child(bag_color, target_color, bag_dict):\n",
    "    if len(bag_dict[bag_color].get_child_bags()) == 0:\n",
    "        return False\n",
    "    if target_color in bag_dict[bag_color].get_child_bags():\n",
    "        return True\n",
    "    is_contained = any(\n",
    "        can_contain_child(\n",
    "            child_color,\n",
    "            target_color,\n",
    "            bag_dict) for child_color in bag_dict[bag_color].get_child_bags()\n",
    "    )\n",
    "    return is_contained\n",
    "\n",
    "\n",
    "def solve1(bag_dict, target_color='shiny gold'):\n",
    "    # get all possible outerbags for the bag of a given color\n",
    "    return sum([can_contain_child(bag_color, target_color, bag_dict) for bag_color in bag_dict])\n",
    "\n",
    "solve1(bag_dict)"
   ]
  },
  {
   "cell_type": "code",
   "execution_count": 6,
   "metadata": {},
   "outputs": [
    {
     "data": {
      "text/plain": [
       "54803"
      ]
     },
     "execution_count": 6,
     "metadata": {},
     "output_type": "execute_result"
    }
   ],
   "source": [
    "def count_children(bag_color, bag_dict):\n",
    "    children = bag_dict[bag_color].get_child_bags()\n",
    "    if len(children) == 0:\n",
    "        # no more children bags\n",
    "        return 0\n",
    "    return sum([count + count * count_children(color, bag_dict) for color, count in children.items()])\n",
    " \n",
    "    \n",
    "def solve2(bag_dict, target_color='shiny gold'):\n",
    "    return count_children(target_color, bag_dict)\n",
    "    \n",
    "solve2(bag_dict)"
   ]
  },
  {
   "cell_type": "markdown",
   "metadata": {},
   "source": [
    "#### Scratch Code"
   ]
  },
  {
   "cell_type": "code",
   "execution_count": 7,
   "metadata": {},
   "outputs": [
    {
     "data": {
      "text/plain": [
       "['shiny gold bags contain 2 dark red bags.',\n",
       " 'dark red bags contain 2 dark orange bags.',\n",
       " 'dark orange bags contain 2 dark yellow bags.',\n",
       " 'dark yellow bags contain 2 dark green bags.',\n",
       " 'dark green bags contain 2 dark blue bags.',\n",
       " 'dark blue bags contain 2 dark violet bags.',\n",
       " 'dark violet bags contain no other bags.']"
      ]
     },
     "execution_count": 7,
     "metadata": {},
     "output_type": "execute_result"
    }
   ],
   "source": [
    "# with this example the shiny gold bag contains 126 other bags\n",
    "test = \"\"\"shiny gold bags contain 2 dark red bags.\n",
    "dark red bags contain 2 dark orange bags.\n",
    "dark orange bags contain 2 dark yellow bags.\n",
    "dark yellow bags contain 2 dark green bags.\n",
    "dark green bags contain 2 dark blue bags.\n",
    "dark blue bags contain 2 dark violet bags.\n",
    "dark violet bags contain no other bags.\"\"\".split(\"\\n\")\n",
    "test"
   ]
  },
  {
   "cell_type": "code",
   "execution_count": 8,
   "metadata": {},
   "outputs": [],
   "source": [
    "# make list of all bags as classes\n",
    "test_bags = [Bag(bag_description=x)for x in test]\n",
    "test_bag_dict = {x.color : x for x in test_bags}\n",
    "# print(len(test), len(test_bags), len(test_bag_dict))"
   ]
  },
  {
   "cell_type": "code",
   "execution_count": 9,
   "metadata": {},
   "outputs": [
    {
     "data": {
      "text/plain": [
       "126"
      ]
     },
     "execution_count": 9,
     "metadata": {},
     "output_type": "execute_result"
    }
   ],
   "source": [
    "solve2(test_bag_dict, target_color='shiny gold')"
   ]
  }
 ],
 "metadata": {
  "kernelspec": {
   "display_name": "Python 3",
   "language": "python",
   "name": "python3"
  },
  "language_info": {
   "codemirror_mode": {
    "name": "ipython",
    "version": 3
   },
   "file_extension": ".py",
   "mimetype": "text/x-python",
   "name": "python",
   "nbconvert_exporter": "python",
   "pygments_lexer": "ipython3",
   "version": "3.7.4"
  }
 },
 "nbformat": 4,
 "nbformat_minor": 2
}
